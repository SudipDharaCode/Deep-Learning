{
 "cells": [
  {
   "cell_type": "code",
   "execution_count": null,
   "metadata": {},
   "outputs": [],
   "source": [
    "import cv2\n",
    "from mtcnn import MTCNN\n",
    "\n",
    "\n",
    "detector = MTCNN()\n",
    "\n",
    "cap = cv2.VideoCapture(0)\n",
    "cap.set(3,640)\n",
    "cap.set(4,480)\n",
    "\n",
    "while True:\n",
    "    \n",
    "    ret,frame = cap.read()\n",
    "    \n",
    "    output = detector.detect_faces(frame)\n",
    "    \n",
    "    for i in output:\n",
    "        \n",
    "        x,y,width,height = i['box']\n",
    "        left_eyex,left_eyey = i[\"keypoints\"]['left_eye']\n",
    "        right_eyex,right_eyey = i[\"keypoints\"]['right_eye']\n",
    "        nosex,nosey = i[\"keypoints\"]['nose']\n",
    "        mouth_leftx,mouth_lefty = i[\"keypoints\"]['mouth_left']\n",
    "        mouth_rightx,mouth_right = i[\"keypoints\"]['mouth_right']\n",
    "\n",
    "    \n",
    "        left_eye = cv2.circle(frame,center=(left_eyex,left_eyey),color=(0,0,255),thickness=1,radius=3)\n",
    "        right_eye = cv2.circle(frame,center=(right_eyex,right_eyey),color=(0,0,255),thickness=1,radius=3)\n",
    "        nose = cv2.circle(frame,center=(nosex,nosey),color=(0,0,255),thickness=1,radius=3)\n",
    "        mouth_left = cv2.circle(frame,center=(mouth_leftx,mouth_lefty),color=(0,0,255),thickness=1,radius=3)\n",
    "        mouth_right = cv2.circle(frame,center=(mouth_rightx,mouth_right),color=(0,0,255),thickness=1,radius=3)\n",
    "\n",
    "        \n",
    "        \n",
    "        if i['confidence'] >= 0.75:  \n",
    "            cv2.rectangle(frame,pt1=(x,y),pt2=(x+width,y+height),color=(255,0,0),thickness=3)\n",
    "        # cv2.putText(frame,str(i['confidence']), (x,y),cv2.FONT_HERSHEY_SIMPLEX,0.5, (255,0,0), thickness=2)\n",
    "\n",
    "    cv2.imshow(\"window\",frame)\n",
    "\n",
    "    if cv2.waitKey(1) & 0xFF == ord('x'):\n",
    "        break\n",
    "\n",
    "cap.release()\n",
    "cv2.destroyAllWindows()"
   ]
  }
 ],
 "metadata": {
  "language_info": {
   "name": "python"
  },
  "orig_nbformat": 4
 },
 "nbformat": 4,
 "nbformat_minor": 2
}
